{
 "cells": [
  {
   "attachments": {},
   "cell_type": "markdown",
   "metadata": {},
   "source": [
    "## HuBMAP metadata analysis"
   ]
  },
  {
   "cell_type": "code",
   "execution_count": 1,
   "metadata": {},
   "outputs": [],
   "source": [
    "import requests\n",
    "import pandas as pd\n",
    "import time\n",
    "from tqdm import tqdm\n",
    "import os\n",
    "from pathlib import Path\n",
    "import json"
   ]
  },
  {
   "cell_type": "code",
   "execution_count": 2,
   "metadata": {},
   "outputs": [],
   "source": [
    "def get_hubmap_metadata(uuid: str, ):\n",
    "    URL = f\"https://portal.hubmapconsortium.org/browse/dataset/{uuid}\"\n",
    "    if \"json\" not in uuid:\n",
    "        URL = f\"https://portal.hubmapconsortium.org/browse/dataset/{uuid}.json\"\n",
    "    \n",
    "    response = requests.get(URL)\n",
    "    return response"
   ]
  },
  {
   "cell_type": "code",
   "execution_count": 52,
   "metadata": {},
   "outputs": [
    {
     "data": {
      "text/plain": [
       "<Response [200]>"
      ]
     },
     "execution_count": 52,
     "metadata": {},
     "output_type": "execute_result"
    }
   ],
   "source": [
    "get_hubmap_metadata(uuid=\"0de3181b777383b7b918d4402021fb34\")"
   ]
  },
  {
   "attachments": {},
   "cell_type": "markdown",
   "metadata": {},
   "source": [
    "List of all json IDs."
   ]
  },
  {
   "cell_type": "code",
   "execution_count": 6,
   "metadata": {},
   "outputs": [],
   "source": [
    "def get_list_of_uuids():\n",
    "    hubmap_metadata_general_url = \"https://portal.hubmapconsortium.org/metadata/v0/datasets.tsv\"\n",
    "    df_raw = pd.read_csv(hubmap_metadata_general_url, delimiter='\\t')\n",
    "    hubmap_uuids = df_raw['uuid'][1:].tolist()\n",
    "    return hubmap_uuids"
   ]
  },
  {
   "cell_type": "code",
   "execution_count": 7,
   "metadata": {},
   "outputs": [],
   "source": [
    "hubmap_uuids = get_list_of_uuids()"
   ]
  },
  {
   "cell_type": "code",
   "execution_count": 8,
   "metadata": {},
   "outputs": [],
   "source": [
    "# resp = get_hubmap_metadata(uuid=hubmap_uuids[1])\n",
    "resp = get_hubmap_metadata(uuid=\"0de3181b777383b7b918d4402021fb34\")"
   ]
  },
  {
   "cell_type": "code",
   "execution_count": 9,
   "metadata": {},
   "outputs": [
    {
     "name": "stdout",
     "output_type": "stream",
     "text": [
      "ancestor_counts <class 'dict'>\n",
      "ancestor_ids <class 'list'>\n",
      "ancestors <class 'list'>\n",
      "contacts <class 'list'>\n",
      "contains_human_genetic_sequences <class 'bool'>\n",
      "contributors <class 'list'>\n",
      "created_by_user_displayname <class 'str'>\n",
      "created_by_user_email <class 'str'>\n",
      "created_timestamp <class 'int'>\n",
      "data_access_level <class 'str'>\n",
      "data_types <class 'list'>\n",
      "descendant_counts <class 'dict'>\n",
      "descendant_ids <class 'list'>\n",
      "descendants <class 'list'>\n",
      "description <class 'str'>\n",
      "display_subtype <class 'str'>\n",
      "doi_url <class 'str'>\n",
      "donor <class 'dict'>\n",
      "entity_type <class 'str'>\n",
      "files <class 'list'>\n",
      "group_name <class 'str'>\n",
      "group_uuid <class 'str'>\n",
      "hubmap_id <class 'str'>\n",
      "immediate_ancestors <class 'list'>\n",
      "immediate_descendants <class 'list'>\n",
      "index_version <class 'str'>\n",
      "last_modified_timestamp <class 'int'>\n",
      "mapped_consortium <class 'str'>\n",
      "mapped_data_access_level <class 'str'>\n",
      "mapped_data_types <class 'list'>\n",
      "mapped_last_modified_timestamp <class 'str'>\n",
      "mapped_metadata <class 'dict'>\n",
      "mapped_status <class 'str'>\n",
      "mapper_metadata <class 'dict'>\n",
      "metadata <class 'dict'>\n",
      "origin_sample <class 'dict'>\n",
      "origin_samples <class 'list'>\n",
      "provider_info <class 'str'>\n",
      "published_timestamp <class 'int'>\n",
      "registered_doi <class 'str'>\n",
      "source_sample <class 'list'>\n",
      "source_samples <class 'list'>\n",
      "status <class 'str'>\n",
      "title <class 'str'>\n",
      "uuid <class 'str'>\n"
     ]
    }
   ],
   "source": [
    "for key,value in resp.json().items():\n",
    "    print(key, type(value))"
   ]
  },
  {
   "cell_type": "code",
   "execution_count": 53,
   "metadata": {},
   "outputs": [
    {
     "data": {
      "text/plain": [
       "{'_shards': {'failed': 0, 'skipped': 0, 'successful': 5, 'total': 5},\n",
       " 'hits': {'hits': [],\n",
       "  'max_score': None,\n",
       "  'total': {'relation': 'eq', 'value': 0}},\n",
       " 'timed_out': False,\n",
       " 'took': 1}"
      ]
     },
     "execution_count": 53,
     "metadata": {},
     "output_type": "execute_result"
    }
   ],
   "source": [
    "resp.json()"
   ]
  },
  {
   "cell_type": "code",
   "execution_count": 54,
   "metadata": {},
   "outputs": [],
   "source": [
    "def get_list_of_uuids():\n",
    "    hubmap_metadata_general_url = \"https://portal.hubmapconsortium.org/metadata/v0/datasets.tsv\"\n",
    "    df_raw = pd.read_csv(hubmap_metadata_general_url, delimiter='\\t')\n",
    "    hubmap_uuids = df_raw['uuid'][1:].tolist()\n",
    "    return hubmap_uuids\n",
    "\n",
    "\n",
    "def get_hubmap_metadata(uuid: str, ):\n",
    "    URL = f\"https://portal.hubmapconsortium.org/browse/dataset/{uuid}\"\n",
    "    if \"json\" not in uuid:\n",
    "        URL = f\"https://portal.hubmapconsortium.org/browse/dataset/{uuid}.json\"\n",
    "    \n",
    "    response = requests.get(URL)\n",
    "    return response\n",
    "\n",
    "\n",
    "def get_all_hubmap_dataset_metadata_Sequential():\n",
    "    all_dataset_metadata = {}\n",
    "    failed_fetches = []\n",
    "    hubmap_uuids = get_list_of_uuids()\n",
    "    for i, uuid in tqdm(enumerate(hubmap_uuids), desc=\"Fetching HuBMAP dataset metadata: \"):\n",
    "        response = get_hubmap_metadata(uuid=uuid)\n",
    "        if response.status_code != 200:\n",
    "            failed_fetches.append(uuid)\n",
    "        else:\n",
    "            all_dataset_metadata[uuid] = response.json()\n",
    "\n",
    "        if i % 100 == 0:\n",
    "            time.sleep(5)  \n",
    "\n",
    "    return all_dataset_metadata, failed_fetches  "
   ]
  },
  {
   "cell_type": "code",
   "execution_count": 55,
   "metadata": {},
   "outputs": [
    {
     "name": "stderr",
     "output_type": "stream",
     "text": [
      "Fetching HuBMAP dataset metadata: : 1330it [14:10,  1.56it/s]\n"
     ]
    }
   ],
   "source": [
    "all_dataset_metadata, failed_fetches = get_all_hubmap_dataset_metadata_Sequential()"
   ]
  },
  {
   "cell_type": "code",
   "execution_count": 57,
   "metadata": {},
   "outputs": [],
   "source": [
    "with open(\"sample.json\", \"w\") as outfile:\n",
    "    json.dump(all_dataset_metadata, outfile)"
   ]
  },
  {
   "cell_type": "code",
   "execution_count": 58,
   "metadata": {},
   "outputs": [
    {
     "data": {
      "text/plain": [
       "[]"
      ]
     },
     "execution_count": 58,
     "metadata": {},
     "output_type": "execute_result"
    }
   ],
   "source": [
    "failed_fetches"
   ]
  },
  {
   "cell_type": "code",
   "execution_count": 64,
   "metadata": {},
   "outputs": [
    {
     "data": {
      "text/plain": [
       "1330"
      ]
     },
     "execution_count": 64,
     "metadata": {},
     "output_type": "execute_result"
    }
   ],
   "source": [
    "len(all_dataset_metadata.keys())\n"
   ]
  },
  {
   "attachments": {},
   "cell_type": "markdown",
   "metadata": {},
   "source": [
    "# HuBMAP data dump exploration"
   ]
  },
  {
   "cell_type": "code",
   "execution_count": 11,
   "metadata": {},
   "outputs": [],
   "source": [
    "all_dataset_metadata = None\n",
    "with open(\"sample.json\", \"r\") as f:\n",
    "    all_dataset_metadata = json.load(f)"
   ]
  },
  {
   "cell_type": "code",
   "execution_count": 16,
   "metadata": {},
   "outputs": [],
   "source": [
    "fields = {k:list(v.keys()) for k,v in all_dataset_metadata.items()}"
   ]
  },
  {
   "cell_type": "code",
   "execution_count": 17,
   "metadata": {},
   "outputs": [],
   "source": [
    "fields_counter = {}\n",
    "for k,v in fields.items():\n",
    "    for feature in v:\n",
    "        if feature not in fields_counter:\n",
    "            fields_counter[feature] = 0\n",
    "        fields_counter[feature] += 1"
   ]
  },
  {
   "cell_type": "code",
   "execution_count": 18,
   "metadata": {},
   "outputs": [
    {
     "data": {
      "text/plain": [
       "{'anatomy_0': 1131,\n",
       " 'anatomy_1': 1131,\n",
       " 'ancestor_counts': 1321,\n",
       " 'ancestor_ids': 1321,\n",
       " 'ancestors': 1321,\n",
       " 'contacts': 848,\n",
       " 'contains_human_genetic_sequences': 1321,\n",
       " 'contributors': 919,\n",
       " 'created_by_user_displayname': 1321,\n",
       " 'created_by_user_email': 1321,\n",
       " 'created_timestamp': 1321,\n",
       " 'data_access_level': 1321,\n",
       " 'data_types': 1321,\n",
       " 'dataset_info': 1182,\n",
       " 'descendant_counts': 1321,\n",
       " 'descendant_ids': 1321,\n",
       " 'descendants': 1321,\n",
       " 'description': 900,\n",
       " 'display_subtype': 1321,\n",
       " 'doi_url': 848,\n",
       " 'donor': 1321,\n",
       " 'entity_type': 1321,\n",
       " 'files': 1321,\n",
       " 'group_name': 1321,\n",
       " 'group_uuid': 1321,\n",
       " 'hubmap_id': 1321,\n",
       " 'immediate_ancestors': 1321,\n",
       " 'immediate_descendants': 1321,\n",
       " 'index_version': 1321,\n",
       " 'lab_dataset_id': 857,\n",
       " 'last_modified_timestamp': 1321,\n",
       " 'mapped_consortium': 1321,\n",
       " 'mapped_data_access_level': 1321,\n",
       " 'mapped_data_types': 1321,\n",
       " 'mapped_last_modified_timestamp': 1321,\n",
       " 'mapped_metadata': 1302,\n",
       " 'mapped_status': 1321,\n",
       " 'mapper_metadata': 1321,\n",
       " 'metadata': 1302,\n",
       " 'origin_sample': 1321,\n",
       " 'origin_samples': 1321,\n",
       " 'published_timestamp': 1321,\n",
       " 'registered_doi': 848,\n",
       " 'source_sample': 1321,\n",
       " 'source_samples': 1321,\n",
       " 'status': 1321,\n",
       " 'title': 1321,\n",
       " 'uuid': 1321,\n",
       " 'next_revision_uuid': 62,\n",
       " 'anatomy_2': 672,\n",
       " 'previous_revision_uuid': 62,\n",
       " 'provider_info': 122,\n",
       " 'thumbnail_file': 36,\n",
       " 'mapped_external_group_name': 8}"
      ]
     },
     "execution_count": 18,
     "metadata": {},
     "output_type": "execute_result"
    }
   ],
   "source": [
    "fields_counter"
   ]
  },
  {
   "cell_type": "code",
   "execution_count": null,
   "metadata": {},
   "outputs": [],
   "source": [
    "all_dataset_metadata"
   ]
  },
  {
   "attachments": {},
   "cell_type": "markdown",
   "metadata": {},
   "source": [
    "## HuBMAP restricted Data:\n",
    "- Search API"
   ]
  },
  {
   "cell_type": "code",
   "execution_count": 21,
   "metadata": {},
   "outputs": [],
   "source": [
    "\n",
    "BASE_URL = \"https://search.api.hubmapconsortium.org/v3/\" \n",
    "endpoint = \"indices\"\n",
    "URL = BASE_URL + endpoint\n",
    "resp = requests.get(URL)"
   ]
  },
  {
   "cell_type": "code",
   "execution_count": 22,
   "metadata": {},
   "outputs": [
    {
     "data": {
      "text/plain": [
       "{'indices': ['entities', 'portal', 'hm_antibodies', 'files']}"
      ]
     },
     "execution_count": 22,
     "metadata": {},
     "output_type": "execute_result"
    }
   ],
   "source": [
    "resp.json()"
   ]
  },
  {
   "cell_type": "code",
   "execution_count": 23,
   "metadata": {},
   "outputs": [],
   "source": [
    "headers = {\n",
    "    'accept': 'application/json',\n",
    "    'Content-Type': 'application/json',\n",
    "}\n",
    "\n",
    "DSL_Query = {\n",
    "  \"query\": {\n",
    "    \"bool\": {\n",
    "      \"must\": [\n",
    "        {\n",
    "          \"match_phrase\": {\n",
    "            \"donor.publication_status\": \"Published\"\n",
    "          }\n",
    "        }\n",
    "      ],\n",
    "      \"filter\": [\n",
    "        {\n",
    "          \"match\": {\n",
    "            \"origin_sample.entity_type\": \"Sample\"\n",
    "          }\n",
    "        }\n",
    "      ]\n",
    "    }\n",
    "  }\n",
    "}\n",
    "\n",
    "BASE_URL = \"https://search.api.hubmapconsortium.org/v3/\" \n",
    "endpoint = \"search\"\n",
    "URL = BASE_URL + endpoint\n",
    "resp = requests.post(URL, headers=headers, json=DSL_Query)"
   ]
  },
  {
   "cell_type": "code",
   "execution_count": 24,
   "metadata": {},
   "outputs": [
    {
     "data": {
      "text/plain": [
       "{'_shards': {'failed': 0, 'skipped': 0, 'successful': 5, 'total': 5},\n",
       " 'hits': {'hits': [],\n",
       "  'max_score': None,\n",
       "  'total': {'relation': 'eq', 'value': 0}},\n",
       " 'timed_out': False,\n",
       " 'took': 1}"
      ]
     },
     "execution_count": 24,
     "metadata": {},
     "output_type": "execute_result"
    }
   ],
   "source": [
    "resp.json()"
   ]
  },
  {
   "cell_type": "code",
   "execution_count": 25,
   "metadata": {},
   "outputs": [
    {
     "data": {
      "text/plain": [
       "b'{\"_shards\":{\"failed\":0,\"skipped\":0,\"successful\":5,\"total\":5},\"hits\":{\"hits\":[],\"max_score\":null,\"total\":{\"relation\":\"eq\",\"value\":0}},\"timed_out\":false,\"took\":1}\\n'"
      ]
     },
     "execution_count": 25,
     "metadata": {},
     "output_type": "execute_result"
    }
   ],
   "source": [
    "resp"
   ]
  },
  {
   "cell_type": "code",
   "execution_count": 48,
   "metadata": {},
   "outputs": [],
   "source": [
    "nexus_token = \"<NEXUS TOKEN>\"\n",
    "headers = {\n",
    "    # 'accept': 'application/json',\n",
    "    # 'Content-Type': 'application/json',\n",
    "    'Authorization': 'Bearer ' + nexus_token\n",
    "}\n",
    "\n",
    "DSL_Query = {\n",
    "  \"query\": {\n",
    "    \"bool\": {\n",
    "      \"should\": [\n",
    "        {\n",
    "          \"match_phrase\": {\n",
    "            \"donor.publication_status\": \"New\"\n",
    "          }\n",
    "        },\n",
    "        { \n",
    "          \"match_phrase\": {\n",
    "            \"donor.publication_status\": \"QA\"\n",
    "          }\n",
    "        },\n",
    "      ],\n",
    "    }\n",
    "  }\n",
    "}\n",
    "\n",
    "\n",
    "BASE_URL = \"https://search.api.hubmapconsortium.org/v3/\" \n",
    "endpoint = \"search\"\n",
    "URL = BASE_URL + endpoint\n",
    "resp = requests.post(URL, headers=headers, json=DSL_Query)"
   ]
  },
  {
   "cell_type": "code",
   "execution_count": 49,
   "metadata": {},
   "outputs": [
    {
     "data": {
      "text/plain": [
       "{'_shards': {'failed': 0, 'skipped': 0, 'successful': 5, 'total': 5},\n",
       " 'hits': {'hits': [],\n",
       "  'max_score': None,\n",
       "  'total': {'relation': 'eq', 'value': 0}},\n",
       " 'timed_out': False,\n",
       " 'took': 1}"
      ]
     },
     "execution_count": 49,
     "metadata": {},
     "output_type": "execute_result"
    }
   ],
   "source": [
    "resp.json()"
   ]
  },
  {
   "attachments": {},
   "cell_type": "markdown",
   "metadata": {},
   "source": [
    "##### Using Entity API"
   ]
  },
  {
   "cell_type": "code",
   "execution_count": 76,
   "metadata": {},
   "outputs": [],
   "source": [
    "nexus_token = \"<NEXUS TOKEN>\"\n",
    "headers = {\n",
    "    # 'accept': 'application/json',\n",
    "    # 'Content-Type': 'application/json',\n",
    "    'Authorization': 'Bearer ' + nexus_token\n",
    "}\n",
    "\n",
    "BASE_URL = \"https://entity.api.hubmapconsortium.org/\"\n",
    "endpoint = \"datasets/prov-info\"\n",
    "params = {\n",
    "    \"format\" : \"json\"\n",
    "}\n",
    "URL = BASE_URL + endpoint\n",
    "resp = requests.get(URL, headers=headers, params=params)\n",
    "\n"
   ]
  },
  {
   "cell_type": "code",
   "execution_count": null,
   "metadata": {},
   "outputs": [],
   "source": [
    "resp.json()"
   ]
  },
  {
   "cell_type": "code",
   "execution_count": 91,
   "metadata": {},
   "outputs": [],
   "source": [
    "dt_uuid_set = set([dt[\"dataset_uuid\"] for dt in resp.json()])"
   ]
  },
  {
   "cell_type": "code",
   "execution_count": 92,
   "metadata": {},
   "outputs": [
    {
     "data": {
      "text/plain": [
       "2137"
      ]
     },
     "execution_count": 92,
     "metadata": {},
     "output_type": "execute_result"
    }
   ],
   "source": [
    "len(dt_uuid_set)"
   ]
  },
  {
   "cell_type": "code",
   "execution_count": 88,
   "metadata": {},
   "outputs": [
    {
     "data": {
      "text/plain": [
       "1330"
      ]
     },
     "execution_count": 88,
     "metadata": {},
     "output_type": "execute_result"
    }
   ],
   "source": [
    "set(all_dataset_metadata.keys()).__len__()"
   ]
  },
  {
   "cell_type": "code",
   "execution_count": 95,
   "metadata": {},
   "outputs": [
    {
     "data": {
      "text/plain": [
       "924"
      ]
     },
     "execution_count": 95,
     "metadata": {},
     "output_type": "execute_result"
    }
   ],
   "source": [
    "len(dt_uuid_set.intersection(set(all_dataset_metadata.keys())))"
   ]
  },
  {
   "cell_type": "code",
   "execution_count": 98,
   "metadata": {},
   "outputs": [
    {
     "data": {
      "text/plain": [
       "406"
      ]
     },
     "execution_count": 98,
     "metadata": {},
     "output_type": "execute_result"
    }
   ],
   "source": [
    "len(set(all_dataset_metadata.keys()) - dt_uuid_set)"
   ]
  },
  {
   "cell_type": "code",
   "execution_count": 102,
   "metadata": {},
   "outputs": [],
   "source": [
    "nexus_token = \"Agd373rPmMWnXaWYV7K61jvMOEvjkYBVaK9oEwPvywyxkrlvy0UXCopKXywKJopxG3vV8MgG3wv4ODuMX0oBrCrPa8\"\n",
    "headers = {\n",
    "    # 'accept': 'application/json',\n",
    "    # 'Content-Type': 'application/json',\n",
    "    'Authorization': 'Bearer ' + nexus_token\n",
    "}\n",
    "ID = list(dt_uuid_set)[0]\n",
    "\n",
    "BASE_URL = \"https://entity.api.hubmapconsortium.org/\"\n",
    "endpoint = f\"datasets/{ID}/prov-info\"\n",
    "params = {\n",
    "    \"format\" : \"json\",\n",
    "    \"id\" : ID,\n",
    "}\n",
    "URL = BASE_URL + endpoint\n",
    "resp = requests.get(URL, headers=headers, params=params)\n",
    "\n"
   ]
  },
  {
   "cell_type": "code",
   "execution_count": null,
   "metadata": {},
   "outputs": [],
   "source": [
    "resp.json()"
   ]
  },
  {
   "attachments": {},
   "cell_type": "markdown",
   "metadata": {},
   "source": [
    "#### Unpublished"
   ]
  },
  {
   "cell_type": "code",
   "execution_count": 104,
   "metadata": {},
   "outputs": [],
   "source": [
    "nexus_token = \"Agd373rPmMWnXaWYV7K61jvMOEvjkYBVaK9oEwPvywyxkrlvy0UXCopKXywKJopxG3vV8MgG3wv4ODuMX0oBrCrPa8\"\n",
    "headers = {\n",
    "    # 'accept': 'application/json',\n",
    "    # 'Content-Type': 'application/json',\n",
    "    'Authorization': 'Bearer ' + nexus_token\n",
    "}\n",
    "\n",
    "BASE_URL = \"https://entity.api.hubmapconsortium.org/\"\n",
    "endpoint = f\"datasets/unpublished\"\n",
    "params = {\n",
    "    \"format\" : \"json\",\n",
    "}\n",
    "URL = BASE_URL + endpoint\n",
    "resp = requests.get(URL, headers=headers, params=params)\n",
    "\n"
   ]
  },
  {
   "cell_type": "code",
   "execution_count": 106,
   "metadata": {},
   "outputs": [
    {
     "data": {
      "text/plain": [
       "1942"
      ]
     },
     "execution_count": 106,
     "metadata": {},
     "output_type": "execute_result"
    }
   ],
   "source": [
    "[resp.json()]"
   ]
  },
  {
   "cell_type": "code",
   "execution_count": 108,
   "metadata": {},
   "outputs": [],
   "source": [
    "unpublished_dataset_uuids = [dt['uuid'] for dt in resp.json()]"
   ]
  },
  {
   "cell_type": "code",
   "execution_count": null,
   "metadata": {},
   "outputs": [],
   "source": [
    "unpublished_dataset_uuids[:5]"
   ]
  },
  {
   "attachments": {},
   "cell_type": "markdown",
   "metadata": {},
   "source": [
    "#### Entity fetch"
   ]
  },
  {
   "cell_type": "code",
   "execution_count": 121,
   "metadata": {},
   "outputs": [],
   "source": [
    "nexus_token = \"Agd373rPmMWnXaWYV7K61jvMOEvjkYBVaK9oEwPvywyxkrlvy0UXCopKXywKJopxG3vV8MgG3wv4ODuMX0oBrCrPa8\"\n",
    "headers = {\n",
    "    # 'accept': 'application/json',\n",
    "    # 'Content-Type': 'application/json',\n",
    "    'Authorization': 'Bearer ' + nexus_token\n",
    "}\n",
    "ID = unpublished_dataset_uuids[1]\n",
    "\n",
    "BASE_URL = \"https://entity.api.hubmapconsortium.org/\"\n",
    "endpoint = f\"entities/{ID}\"\n",
    "params = {\n",
    "    \"id\" : ID,\n",
    "}\n",
    "URL = BASE_URL + endpoint\n",
    "resp = requests.get(URL, headers=headers, )"
   ]
  },
  {
   "cell_type": "code",
   "execution_count": null,
   "metadata": {},
   "outputs": [],
   "source": [
    "resp.json()"
   ]
  },
  {
   "attachments": {},
   "cell_type": "markdown",
   "metadata": {},
   "source": [
    "#### Get all unpublished data"
   ]
  },
  {
   "cell_type": "code",
   "execution_count": 129,
   "metadata": {},
   "outputs": [],
   "source": [
    "def get_unpublished_dataset_metadata(nexus_token, uuid):\n",
    "    # nexus_token = \"Agd373rPmMWnXaWYV7K61jvMOEvjkYBVaK9oEwPvywyxkrlvy0UXCopKXywKJopxG3vV8MgG3wv4ODuMX0oBrCrPa8\"\n",
    "    headers = {\n",
    "        'Authorization': 'Bearer ' + nexus_token\n",
    "    }\n",
    "\n",
    "    BASE_URL = \"https://entity.api.hubmapconsortium.org/\"\n",
    "    endpoint = f\"entities/{uuid}\"\n",
    "    URL = BASE_URL + endpoint\n",
    "    resp = requests.get(URL, headers=headers)\n",
    "    return resp\n",
    "\n",
    "\n",
    "def get_all_hubmap_unpublished_dataset_uuids(nexus_token):\n",
    "    headers = {\n",
    "        'Authorization': 'Bearer ' + nexus_token\n",
    "    }\n",
    "\n",
    "    BASE_URL = \"https://entity.api.hubmapconsortium.org/\"\n",
    "    endpoint = f\"datasets/unpublished\"\n",
    "    params = {\n",
    "        \"format\" : \"json\",\n",
    "    }\n",
    "    URL = BASE_URL + endpoint\n",
    "    resp = requests.get(URL, headers=headers, params=params)\n",
    "    unpublished_dataset_uuids = []\n",
    "    if resp.status_code == 200:\n",
    "        unpublished_dataset_uuids = [dt['uuid'] for dt in resp.json()]\n",
    "    else:\n",
    "        return {\"error\": \"Unable to fetch unpublished dataset prov-info.\"}\n",
    "    return unpublished_dataset_uuids\n",
    "\n",
    "\n",
    "def get_all_hubmap_unpublished_dataset_metadata(nexus_token):\n",
    "    unpublished_dataset_uuids = get_all_hubmap_unpublished_dataset_uuids(nexus_token)\n",
    "    print(f\"Total unpublished datasets : {len(unpublished_dataset_uuids)}\")\n",
    "\n",
    "    all_unpublished_dataset_metadata = {}\n",
    "    failed_unpublished_fetches = []\n",
    "\n",
    "    for uuid in tqdm(unpublished_dataset_uuids, desc=\"Fetching unpublished HuBMAP dataset metadata: \"):    \n",
    "        resp = get_unpublished_dataset_metadata(nexus_token, uuid)\n",
    "        if resp.status_code != 200:\n",
    "            failed_unpublished_fetches.append(uuid)\n",
    "        else:\n",
    "            all_unpublished_dataset_metadata[uuid] = resp.json()\n",
    "\n",
    "        \n",
    "    return all_unpublished_dataset_metadata, failed_unpublished_fetches"
   ]
  },
  {
   "cell_type": "code",
   "execution_count": 130,
   "metadata": {},
   "outputs": [
    {
     "name": "stderr",
     "output_type": "stream",
     "text": [
      "Fetching unpublished HuBMAP dataset metadata:   0%|          | 0/1942 [00:00<?, ?it/s]"
     ]
    },
    {
     "name": "stdout",
     "output_type": "stream",
     "text": [
      "Total unpublished datasets : 1942\n"
     ]
    },
    {
     "name": "stderr",
     "output_type": "stream",
     "text": [
      "Fetching unpublished HuBMAP dataset metadata: 100%|██████████| 1942/1942 [25:01<00:00,  1.29it/s]\n"
     ]
    }
   ],
   "source": [
    "nexus_token = \"Agd373rPmMWnXaWYV7K61jvMOEvjkYBVaK9oEwPvywyxkrlvy0UXCopKXywKJopxG3vV8MgG3wv4ODuMX0oBrCrPa8\"\n",
    "all_unpublished_dataset_metadata, failed_unpublished_fetches = get_all_hubmap_unpublished_dataset_metadata(nexus_token)"
   ]
  },
  {
   "cell_type": "code",
   "execution_count": null,
   "metadata": {},
   "outputs": [],
   "source": [
    "all_unpublished_dataset_metadata"
   ]
  },
  {
   "cell_type": "code",
   "execution_count": 134,
   "metadata": {},
   "outputs": [
    {
     "data": {
      "text/plain": [
       "1938"
      ]
     },
     "execution_count": 134,
     "metadata": {},
     "output_type": "execute_result"
    }
   ],
   "source": [
    "len(all_unpublished_dataset_metadata)"
   ]
  },
  {
   "cell_type": "code",
   "execution_count": null,
   "metadata": {},
   "outputs": [],
   "source": [
    "all_unpublished_dataset_metadata['9b82e4f2bd429e49ec632c3132d380a5']"
   ]
  },
  {
   "attachments": {},
   "cell_type": "markdown",
   "metadata": {},
   "source": [
    "# Parallel fetching"
   ]
  },
  {
   "cell_type": "code",
   "execution_count": 3,
   "metadata": {},
   "outputs": [],
   "source": [
    "import asyncio\n",
    "from aiohttp import ClientSession\n",
    "\n",
    "import nest_asyncio\n",
    "nest_asyncio.apply()"
   ]
  },
  {
   "cell_type": "code",
   "execution_count": 20,
   "metadata": {},
   "outputs": [],
   "source": [
    "async def fetch(url, session):\n",
    "    async with session.get(url) as response:\n",
    "        return await response.json()\n",
    "\n",
    "\n",
    "async def bound_fetch(sem, url, session):\n",
    "    # Getter function with semaphore.\n",
    "    async with sem:\n",
    "        return await fetch(url, session)\n",
    "    \n",
    "    \n",
    "def get_all_hubmap_unpublished_dataset_uuids(nexus_token):\n",
    "    headers = {\n",
    "        'Authorization': 'Bearer ' + nexus_token\n",
    "    }\n",
    "\n",
    "    BASE_URL = \"https://entity.api.hubmapconsortium.org/\"\n",
    "    endpoint = f\"datasets/unpublished\"\n",
    "    params = {\n",
    "        \"format\" : \"json\",\n",
    "    }\n",
    "    URL = BASE_URL + endpoint\n",
    "    resp = requests.get(URL, headers=headers, params=params)\n",
    "    unpublished_dataset_uuids = []\n",
    "    if resp.status_code == 200:\n",
    "        unpublished_dataset_uuids = [dt['uuid'] for dt in resp.json()]\n",
    "    else:\n",
    "        return {\"error\": \"Unable to fetch unpublished dataset prov-info.\"}\n",
    "    return unpublished_dataset_uuids\n",
    "\n",
    "\n",
    "async def get_multiple_unpublished_dataset_metadata(unpublished_dataset_uuids, max_requests_per_sec):\n",
    "    tasks = []\n",
    "    headers = {\n",
    "        'Authorization': 'Bearer ' + nexus_token\n",
    "    }\n",
    "    sem = asyncio.Semaphore(max_requests_per_sec)\n",
    "\n",
    "    async with ClientSession(headers=headers) as session:\n",
    "        for uuid in unpublished_dataset_uuids:    \n",
    "            url = f\"https://entity.api.hubmapconsortium.org/entities/{uuid}\"\n",
    "            task = asyncio.ensure_future(bound_fetch(sem, url, session))\n",
    "            tasks.append(task)\n",
    "            \n",
    "        \n",
    "        responses = asyncio.gather(*tasks)\n",
    "        return await responses\n",
    "\n",
    "\n",
    "def get_all_hubmap_unpublished_dataset_metadata_parallel(nexus_token, max_requests_per_sec=50):\n",
    "    unpublished_dataset_uuids = get_all_hubmap_unpublished_dataset_uuids(nexus_token)\n",
    "    print(f\"Total unpublished datasets : {len(unpublished_dataset_uuids)}\")\n",
    "\n",
    "    all_unpublished_dataset_metadata = []\n",
    "    failed_unpublished_fetches = []\n",
    "    \n",
    "    for i in tqdm(range(0, len(unpublished_dataset_uuids), max_requests_per_sec), desc=\"Fetching unpublished data parallel\"):\n",
    "        loop = asyncio.get_event_loop()\n",
    "        future = asyncio.ensure_future(get_multiple_unpublished_dataset_metadata(unpublished_dataset_uuids[i:i+max_requests_per_sec], max_requests_per_sec))\n",
    "        all_unpublished_dataset_metadata += loop.run_until_complete(future)\n",
    "\n",
    "        \n",
    "    return all_unpublished_dataset_metadata"
   ]
  },
  {
   "cell_type": "code",
   "execution_count": 21,
   "metadata": {},
   "outputs": [
    {
     "name": "stderr",
     "output_type": "stream",
     "text": [
      "Fetching unpublished data parallel:   0%|          | 0/10 [00:00<?, ?it/s]"
     ]
    },
    {
     "name": "stdout",
     "output_type": "stream",
     "text": [
      "Total unpublished datasets : 1949\n"
     ]
    },
    {
     "name": "stderr",
     "output_type": "stream",
     "text": [
      "Fetching unpublished data parallel: 100%|██████████| 10/10 [02:05<00:00, 12.51s/it]"
     ]
    },
    {
     "name": "stdout",
     "output_type": "stream",
     "text": [
      "CPU times: user 4.78 s, sys: 1.5 s, total: 6.27 s\n",
      "Wall time: 2min 10s\n"
     ]
    },
    {
     "name": "stderr",
     "output_type": "stream",
     "text": [
      "\n"
     ]
    }
   ],
   "source": [
    "%%time \n",
    "\n",
    "nexus_token = \"Ag7paXD5MqbJ0na8VMvNa09an5N3e8GQGK0xVNr32ppk34bXawHWC27Gxkk2W7JP9qq6BVBxb9bw86Cno2apBtBxvr\"\n",
    "all_unpublished_dataset_metadata = get_all_hubmap_unpublished_dataset_metadata_parallel(nexus_token, max_requests_per_sec=200)"
   ]
  },
  {
   "cell_type": "code",
   "execution_count": 12,
   "metadata": {},
   "outputs": [
    {
     "data": {
      "text/plain": [
       "1948"
      ]
     },
     "execution_count": 12,
     "metadata": {},
     "output_type": "execute_result"
    }
   ],
   "source": [
    "len(all_unpublished_dataset_metadata)"
   ]
  },
  {
   "cell_type": "code",
   "execution_count": 16,
   "metadata": {},
   "outputs": [],
   "source": [
    "all_unpublished_dataset_metadata_dict = {dt['uuid'] : dt for dt in all_unpublished_dataset_metadata}"
   ]
  },
  {
   "cell_type": "code",
   "execution_count": null,
   "metadata": {},
   "outputs": [],
   "source": [
    "all_unpublished_dataset_metadata_dict['9b82e4f2bd429e49ec632c3132d380a5']"
   ]
  },
  {
   "cell_type": "code",
   "execution_count": 36,
   "metadata": {},
   "outputs": [
    {
     "name": "stdout",
     "output_type": "stream",
     "text": [
      "Current Time = 2023_10_01_12_10_19\n"
     ]
    }
   ],
   "source": [
    "from datetime import datetime\n",
    "\n",
    "now = datetime.now()\n",
    "\n",
    "current_time = now.strftime(\"%Y_%M_%d_%H_%M_%S\")\n",
    "print(\"Current Time =\", current_time)"
   ]
  }
 ],
 "metadata": {
  "kernelspec": {
   "display_name": "base",
   "language": "python",
   "name": "python3"
  },
  "language_info": {
   "codemirror_mode": {
    "name": "ipython",
    "version": 3
   },
   "file_extension": ".py",
   "mimetype": "text/x-python",
   "name": "python",
   "nbconvert_exporter": "python",
   "pygments_lexer": "ipython3",
   "version": "3.8.8"
  },
  "orig_nbformat": 4,
  "vscode": {
   "interpreter": {
    "hash": "d799180013054dbb0da6823dfa1325804a3e4e8d9ebafdd7f5e3fbd25ae51564"
   }
  }
 },
 "nbformat": 4,
 "nbformat_minor": 2
}
